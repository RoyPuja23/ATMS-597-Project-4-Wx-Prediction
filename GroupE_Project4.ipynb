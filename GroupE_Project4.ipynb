{
  "nbformat": 4,
  "nbformat_minor": 0,
  "metadata": {
    "colab": {
      "name": "GroupE_Project4",
      "provenance": [],
      "mount_file_id": "1__wPzTJOi5YQ_uRkm4zRTBovy8wPfWAO",
      "authorship_tag": "ABX9TyOOKorYU5cX/gzewyxrgZmd",
      "include_colab_link": true
    },
    "kernelspec": {
      "name": "python3",
      "display_name": "Python 3"
    }
  },
  "cells": [
    {
      "cell_type": "markdown",
      "metadata": {
        "id": "view-in-github",
        "colab_type": "text"
      },
      "source": [
        "<a href=\"https://colab.research.google.com/github/bieri2/ATMS-597-Project-4-Wx-Prediction/blob/master/GroupE_Project4.ipynb\" target=\"_parent\"><img src=\"https://colab.research.google.com/assets/colab-badge.svg\" alt=\"Open In Colab\"/></a>"
      ]
    },
    {
      "cell_type": "code",
      "metadata": {
        "id": "xVOQmMcZErKt",
        "colab_type": "code",
        "colab": {}
      },
      "source": [
        "import pandas as pd"
      ],
      "execution_count": 0,
      "outputs": []
    },
    {
      "cell_type": "code",
      "metadata": {
        "id": "eYGDhZjuhW9B",
        "colab_type": "code",
        "colab": {}
      },
      "source": [
        "kcmi_daily = pd.read_csv('/content/drive/My Drive/project4_data/KCMI_daily.csv', \n",
        "                         header = 4)[:-7]\n",
        "kcmi_daily = kcmi_daily.drop(columns = 'Unnamed: 5')\n",
        "kcmi_daily = kcmi_daily.set_index('Date')"
      ],
      "execution_count": 0,
      "outputs": []
    },
    {
      "cell_type": "code",
      "metadata": {
        "id": "UBK7jUxNi3i5",
        "colab_type": "code",
        "colab": {}
      },
      "source": [
        "kcmi_hourly = pd.read_csv('/content/drive/My Drive/project4_data/KCMI_hourly.csv')\n",
        "kcmi_hourly = kcmi_hourly.set_index('Timestamp')"
      ],
      "execution_count": 0,
      "outputs": []
    },
    {
      "cell_type": "code",
      "metadata": {
        "id": "WGRhxwf5qppz",
        "colab_type": "code",
        "colab": {}
      },
      "source": [
        ""
      ],
      "execution_count": 0,
      "outputs": []
    }
  ]
}