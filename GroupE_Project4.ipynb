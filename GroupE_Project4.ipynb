{
  "nbformat": 4,
  "nbformat_minor": 0,
  "metadata": {
    "colab": {
      "name": "GroupE_Project4",
      "provenance": [],
      "mount_file_id": "1__wPzTJOi5YQ_uRkm4zRTBovy8wPfWAO",
      "authorship_tag": "ABX9TyNcuWeTdbPbNcLP0y/wIe5y"
    },
    "kernelspec": {
      "name": "python3",
      "display_name": "Python 3"
    }
  },
  "cells": [
    {
      "cell_type": "code",
      "metadata": {
        "id": "xVOQmMcZErKt",
        "colab_type": "code",
        "colab": {}
      },
      "source": [
        "# Import necessary modules\n",
        "import pandas as pd\n",
        "import numpy as np"
      ],
      "execution_count": 0,
      "outputs": []
    },
    {
      "cell_type": "code",
      "metadata": {
        "id": "eYGDhZjuhW9B",
        "colab_type": "code",
        "colab": {}
      },
      "source": [
        "# Read in daily KCMI data \n",
        "kcmi_daily = pd.read_csv('/content/drive/My Drive/project4_data/KCMI_daily.csv', \n",
        "                         header = 4)[:-7]\n",
        "# Drop unnecessary column\n",
        "kcmi_daily = kcmi_daily.drop(columns = 'Unnamed: 5')\n",
        "# Set 'Date' column as index\n",
        "kcmi_daily = kcmi_daily.set_index(pd.to_datetime(kcmi_daily['Date'])).drop(columns = 'Date')\n",
        "# Get data only from 2010 to 2018\n",
        "kcmi_daily = kcmi_daily['2010-01-01':'2018-12-31']"
      ],
      "execution_count": 0,
      "outputs": []
    },
    {
      "cell_type": "code",
      "metadata": {
        "id": "UBK7jUxNi3i5",
        "colab_type": "code",
        "colab": {}
      },
      "source": [
        "# Read in hourly KCMI data\n",
        "kcmi_hourly = pd.read_csv('/content/drive/My Drive/project4_data/KCMI_hourly.csv')\n",
        "# Set 'Timestep' column as index\n",
        "kcmi_hourly = kcmi_hourly.set_index(pd.to_datetime(kcmi_hourly['Timestamp'])).drop(columns = 'Timestamp')\n",
        "# Get data only from 2010 to 2018\n",
        "kcmi_hourly = kcmi_hourly['2010-01-01':'2018-12-31']"
      ],
      "execution_count": 0,
      "outputs": []
    },
    {
      "cell_type": "code",
      "metadata": {
        "id": "YCs8IO_N7QTZ",
        "colab_type": "code",
        "colab": {}
      },
      "source": [
        "# Get boolean array which indicates locations of missing data \n",
        "missing = kcmi_daily['Total Precip (in)'] == 'M'"
      ],
      "execution_count": 0,
      "outputs": []
    },
    {
      "cell_type": "code",
      "metadata": {
        "id": "Lgm-Fdmkox_K",
        "colab_type": "code",
        "colab": {}
      },
      "source": [
        "# Resample hourly data to daily by summing hourly values\n",
        "kcmi_hourly_resampled = kcmi_hourly.resample('D').apply(lambda x: x.values.sum())"
      ],
      "execution_count": 0,
      "outputs": []
    },
    {
      "cell_type": "code",
      "metadata": {
        "id": "YZU3YCfT7jqB",
        "colab_type": "code",
        "colab": {
          "base_uri": "https://localhost:8080/",
          "height": 126
        },
        "outputId": "93ebfa3f-17c7-424b-8e60-0d7d85056480"
      },
      "source": [
        "# Replace missing daily precip data with aggregated hourly data\n",
        "kcmi_daily['Total Precip (in)'][missing] = kcmi_hourly_resampled['pr1h'][missing].astype('float')\n",
        "# Convert precip column to float\n",
        "kcmi_daily['Total Precip (in)'] = kcmi_daily['Total Precip (in)'].astype('float')\n",
        "# Set invalid precip values (negative) to NaN\n",
        "kcmi_daily['Total Precip (in)'][kcmi_daily['Total Precip (in)'] < 0] = np.NaN"
      ],
      "execution_count": 52,
      "outputs": [
        {
          "output_type": "stream",
          "text": [
            "/usr/local/lib/python3.6/dist-packages/ipykernel_launcher.py:5: SettingWithCopyWarning: \n",
            "A value is trying to be set on a copy of a slice from a DataFrame\n",
            "\n",
            "See the caveats in the documentation: http://pandas.pydata.org/pandas-docs/stable/user_guide/indexing.html#returning-a-view-versus-a-copy\n",
            "  \"\"\"\n"
          ],
          "name": "stderr"
        }
      ]
    },
    {
      "cell_type": "code",
      "metadata": {
        "id": "-NXi7mvdhVfI",
        "colab_type": "code",
        "colab": {}
      },
      "source": [
        ""
      ],
      "execution_count": 0,
      "outputs": []
    }
  ]
}